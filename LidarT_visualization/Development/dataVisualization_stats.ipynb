{
 "cells": [
  {
   "cell_type": "code",
   "execution_count": 1,
   "metadata": {},
   "outputs": [],
   "source": [
    "import os\n",
    "# from netCDF4 import Dataset\n",
    "import numpy as np\n",
    "import matplotlib.pyplot as plt\n",
    "import matplotlib.dates as mdates\n",
    "import pandas as pd\n",
    "import datetime\n",
    "# import pandas as pd\n",
    "import xarray as xr\n",
    "import seaborn\n",
    "from scipy import signal"
   ]
  },
  {
   "cell_type": "code",
   "execution_count": 47,
   "metadata": {},
   "outputs": [],
   "source": [
    "# fileLocation = '/Users/tennismichel/Coding/Python/DLR_LIDAR/Data'\n",
    "fileLocation = '../../v8'\n",
    "fileName = \"20171130-0051_T10Z900_stats.nc\"\n",
    "# fileName = \"20180118-0253_T15Z900.nc\"\n",
    "path = os.path.join(fileLocation, fileName)"
   ]
  },
  {
   "cell_type": "code",
   "execution_count": 48,
   "metadata": {},
   "outputs": [
    {
     "data": {
      "text/plain": [
       "<xarray.DataArray 'time_offset' (value: 1)>\n",
       "array([1512000000], dtype=uint32)\n",
       "Dimensions without coordinates: value"
      ]
     },
     "execution_count": 48,
     "metadata": {},
     "output_type": "execute_result"
    }
   ],
   "source": [
    "DS = xr.open_dataset(path, decode_times=False)\n",
    "DS.time.values = DS.time.values / 1000\n",
    "\n",
    "DS = xr.decode_cf(DS, decode_coords = True, decode_times = True) \n",
    "\n",
    "x = DS.time.attrs\n",
    "DS.time_offset"
   ]
  },
  {
   "cell_type": "code",
   "execution_count": 45,
   "metadata": {},
   "outputs": [
    {
     "data": {
      "text/plain": [
       "<xarray.Dataset>\n",
       "Dimensions:                 (altitude: 1600, channels: 1, time: 111, value: 1)\n",
       "Coordinates:\n",
       "  * time                    (time) uint32 3915000 3975000 ... 10455000 10515000\n",
       "  * altitude                (altitude) uint32 0 100 200 ... 159700 159800 159900\n",
       "Dimensions without coordinates: channels, value\n",
       "Data variables:\n",
       "    station_latitude        (value) float64 ...\n",
       "    station_longitude       (value) float64 ...\n",
       "    station_height          (value) uint32 ...\n",
       "    time_offset             (value) uint32 ...\n",
       "    altitude_offset         (value) uint32 ...\n",
       "    wavelength              (channels) float64 ...\n",
       "    zenith_cosine           (time) float64 ...\n",
       "    z0                      (time) uint32 ...\n",
       "    integration_start_time  (time) uint32 ...\n",
       "    integration_end_time    (time) uint32 ...\n",
       "    max_countrate           (time) uint32 ...\n",
       "    countrate_limit_bin     (time) uint32 ...\n",
       "    temperature             (time, altitude) float32 ...\n",
       "    temperature_err         (time, altitude) float32 ...\n",
       "Attributes:\n",
       "    title:             Lidar temperature profiles\n",
       "    summary:           This file contains temperature profiles retrieved from...\n",
       "    comment:           \n",
       "    institution:       German Aerospace Center (DLR), Institute of Atmospheri...\n",
       "    creator_name:      Bernd Kaifler\n",
       "    creator_url:       http://www.dlr.de/pa\n",
       "    creator_email:     bernd.kaifler@dlr.de\n",
       "    cmdline:           ./CFConvert -db southwave.cfdb -c -a -o /home/bernd/co...\n",
       "    version:           8\n",
       "    date_created:      Dec  4 10:27:26 2018\n",
       "    campaign_name:     \n",
       "    station_name:      \n",
       "    instrument_name:   \n",
       "    history:           Dec  4 10:27:26 2018, file created with MELISA 1367.\n",
       "    date_data_start:   Nov 30 01:05:15 2017\n",
       "    snr_limit:         30.0\n",
       "    background_limit:  10000.0\n",
       "    signal_limit:      10000.0\n",
       "    sim_runs:          200"
      ]
     },
     "execution_count": 45,
     "metadata": {},
     "output_type": "execute_result"
    }
   ],
   "source": [
    "fileName = \"20171130-0051_ch3_T10Z900.nc\"\n",
    "path = os.path.join(fileLocation, fileName)\n",
    "DS = xr.open_dataset(path, decode_times=False)\n",
    "DS"
   ]
  },
  {
   "cell_type": "code",
   "execution_count": 36,
   "metadata": {},
   "outputs": [
    {
     "data": {
      "image/png": "[encoded data removed]",
      "text/plain": [
       "<matplotlib.figure.Figure at 0x1c1687d160>"
      ]
     },
     "metadata": {
      "needs_background": "light"
     },
     "output_type": "display_data"
    }
   ],
   "source": [
    "# matplotlib.rcParams['font.sans-serif'] = \"Comic Sans MS\"\n",
    "# plt.rcParams['font.family'] = \"sans-serif\"\n",
    "fig, (ax0, ax1) = plt.subplots(nrows=2, figsize=(5,10), gridspec_kw={'height_ratios': [2, 1]})\n",
    "\n",
    "## Mean Plot (altitude vs. temperature)\n",
    "# ax1.plot('time', 'signal_ch0', data=DS)\n",
    "ax1.plot('time', 'signal_ch2', data=DS)\n",
    "# ax1.plot('time', 'signal_ch3', data=DS)\n",
    "# ax1.plot('time', 'background_ch0', data=DS)\n",
    "# ax1.plot('time', 'background_ch1', data=DS)\n",
    "ax1.plot('time', 'background_ch2', data=DS)\n",
    "# ax1.plot('time', 'background_ch3', data=DS)\n",
    "\n",
    "\n",
    "# ax1.set_aspect('1.4')\n",
    "\n",
    "# Labels \n",
    "ax1.set_title('Nightly mean')\n",
    "\n",
    "fig.tight_layout(rect=[0, 0, 1, 0.88]) # tuple (left, bottom, right, top),\n",
    "# annotate() for fixed ratios"
   ]
  },
  {
   "cell_type": "code",
   "execution_count": null,
   "metadata": {},
   "outputs": [],
   "source": []
  }
 ],
 "metadata": {
  "kernelspec": {
   "display_name": "Python 3",
   "language": "python",
   "name": "python3"
  },
  "language_info": {
   "codemirror_mode": {
    "name": "ipython",
    "version": 3
   },
   "file_extension": ".py",
   "mimetype": "text/x-python",
   "name": "python",
   "nbconvert_exporter": "python",
   "pygments_lexer": "ipython3",
   "version": "3.6.4"
  }
 },
 "nbformat": 4,
 "nbformat_minor": 2
}

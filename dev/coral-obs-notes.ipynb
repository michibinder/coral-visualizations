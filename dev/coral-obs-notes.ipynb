{
 "cells": [
  {
   "cell_type": "code",
   "execution_count": 24,
   "metadata": {},
   "outputs": [],
   "source": [
    "import os\n",
    "import glob\n",
    "# from netCDF4 import Dataset\n",
    "import numpy as np\n",
    "import pandas as pd\n",
    "import xarray as xr\n",
    "from scipy import signal\n",
    "import datetime\n",
    "import configparser\n",
    "\n",
    "import filter, cmaps, era5_processor, lidar_processor\n",
    "\n",
    "plt.style.use('latex_default.mplstyle')"
   ]
  },
  {
   "cell_type": "code",
   "execution_count": 25,
   "metadata": {},
   "outputs": [],
   "source": [
    "CONFIG_FILE = \"./coral.ini\"\n",
    "config = configparser.ConfigParser()\n",
    "config.read(CONFIG_FILE)\n",
    "file_list = sorted(glob.glob(os.path.join(\"/export/data/malidar/tana/Southwave/v17combined\", \"*T15Z900.nc\")))"
   ]
  },
  {
   "cell_type": "code",
   "execution_count": 27,
   "metadata": {},
   "outputs": [],
   "source": [
    "obs_list = []\n",
    "duration_list = []\n",
    "for file in file_list:\n",
    "    file_name = os.path.split(file)[-1]\n",
    "    datetime_string = file_name[:13]\n",
    "    obs_list.append(datetime_string)\n",
    "\n",
    "    \"\"\"Duration\"\"\"\n",
    "    try:\n",
    "        ds = lidar_processor.open_and_decode_lidar_measurement(file)\n",
    "        duration_list.append(ds.duration_str)\n",
    "    except:\n",
    "        duration_list.append(\"\")\n",
    "\n",
    "note_list = [\"\"] * len(obs_list)\n",
    "obs_dict = {\"Datetime\": obs_list, \"Duration\": duration_list, \"Note\": note_list}\n",
    "df_obs = pd.DataFrame(obs_dict)"
   ]
  },
  {
   "cell_type": "code",
   "execution_count": 28,
   "metadata": {},
   "outputs": [],
   "source": [
    "df_obs.to_csv(\"./data/coral_observations_notes.csv\", index=False)"
   ]
  },
  {
   "cell_type": "code",
   "execution_count": null,
   "metadata": {},
   "outputs": [],
   "source": []
  }
 ],
 "metadata": {
  "kernelspec": {
   "display_name": "unstable-venv",
   "language": "python",
   "name": "unstable-venv"
  },
  "vscode": {
   "interpreter": {
    "hash": "5553387fd55a0baa6ec8a45421c966bf7f25b90b8c55866b6fdcbda2bc43e8a8"
   }
  }
 },
 "nbformat": 4,
 "nbformat_minor": 4
}
